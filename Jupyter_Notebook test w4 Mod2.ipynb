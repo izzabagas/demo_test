{
 "cells": [
  {
   "cell_type": "markdown",
   "id": "6a1bfca7-af36-4127-bd0a-9855b37fb17f",
   "metadata": {},
   "source": [
    "# My Jupyter Notebook on IBM Watson Sudio"
   ]
  },
  {
   "cell_type": "markdown",
   "id": "c13170d4-ab01-4387-beca-e321b11d87fa",
   "metadata": {},
   "source": [
    "**Izza Sinatrya**\n",
    "<br>100% human"
   ]
  },
  {
   "cell_type": "markdown",
   "id": "6648615e-9d26-4097-b5a7-c805cd27b105",
   "metadata": {},
   "source": [
    "*I want to get more pennies with data science to support my hedonistic lifestyle*"
   ]
  },
  {
   "cell_type": "markdown",
   "id": "2e97a452-9c8f-4b89-9e01-17904c660741",
   "metadata": {},
   "source": [
    "### my code is suppose to print Hello world"
   ]
  },
  {
   "cell_type": "code",
   "execution_count": 3,
   "id": "523f8667-ec0b-4576-8ca9-523507cb50dc",
   "metadata": {},
   "outputs": [
    {
     "name": "stdout",
     "output_type": "stream",
     "text": [
      "Hello world\n"
     ]
    }
   ],
   "source": [
    "print(\"Hello world\")"
   ]
  },
  {
   "cell_type": "markdown",
   "id": "d3ab4a5f-8a08-48a0-9dc9-dcfd810fa00b",
   "metadata": {},
   "source": [
    "* a\n",
    "* b\n",
    "* c\n",
    "\n",
    "`I love You`\n",
    "**more than you know**"
   ]
  },
  {
   "cell_type": "code",
   "execution_count": null,
   "id": "5c9a958b-3b1e-477b-a29a-1deafc572fea",
   "metadata": {},
   "outputs": [],
   "source": []
  }
 ],
 "metadata": {
  "kernelspec": {
   "display_name": "Python",
   "language": "python",
   "name": "conda-env-python-py"
  },
  "language_info": {
   "codemirror_mode": {
    "name": "ipython",
    "version": 3
   },
   "file_extension": ".py",
   "mimetype": "text/x-python",
   "name": "python",
   "nbconvert_exporter": "python",
   "pygments_lexer": "ipython3",
   "version": "3.7.12"
  }
 },
 "nbformat": 4,
 "nbformat_minor": 5
}
